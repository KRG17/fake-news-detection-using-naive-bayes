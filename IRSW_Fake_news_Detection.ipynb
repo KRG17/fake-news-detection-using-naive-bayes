{
  "nbformat": 4,
  "nbformat_minor": 0,
  "metadata": {
    "colab": {
      "provenance": [],
      "gpuType": "T4"
    },
    "kernelspec": {
      "name": "python3",
      "display_name": "Python 3"
    },
    "language_info": {
      "name": "python"
    },
    "accelerator": "GPU"
  },
  "cells": [
    {
      "cell_type": "code",
      "execution_count": 1,
      "metadata": {
        "id": "SG-lSXoKCD-A"
      },
      "outputs": [],
      "source": [
        "import numpy as np\n",
        "import pandas as pd\n",
        "import re\n",
        "import string\n",
        "import nltk\n",
        "from nltk.corpus import stopwords\n",
        "from nltk.stem import PorterStemmer\n",
        "from nltk.tokenize import word_tokenize\n",
        "import matplotlib.pyplot as plt\n",
        "from sklearn.model_selection import train_test_split\n",
        "from sklearn.feature_extraction.text import TfidfVectorizer\n",
        "from xgboost import XGBClassifier\n",
        "from scipy.sparse import hstack\n",
        "import random"
      ]
    },
    {
      "cell_type": "code",
      "source": [
        "real_df = pd.read_csv('/content/Fake.csv', encoding='ISO-8859-1', on_bad_lines='skip')\n",
        "fake_df = pd.read_csv('/content/True.csv', encoding='ISO-8859-1', on_bad_lines='skip')"
      ],
      "metadata": {
        "id": "tZYuoaRmCkTC",
        "colab": {
          "base_uri": "https://localhost:8080/",
          "height": 355
        },
        "outputId": "1cafc116-e7d1-4829-ba09-018b08c610dd"
      },
      "execution_count": 2,
      "outputs": [
        {
          "output_type": "error",
          "ename": "FileNotFoundError",
          "evalue": "ignored",
          "traceback": [
            "\u001b[0;31m---------------------------------------------------------------------------\u001b[0m",
            "\u001b[0;31mFileNotFoundError\u001b[0m                         Traceback (most recent call last)",
            "\u001b[0;32m<ipython-input-2-ff855b03d87e>\u001b[0m in \u001b[0;36m<cell line: 1>\u001b[0;34m()\u001b[0m\n\u001b[0;32m----> 1\u001b[0;31m \u001b[0mreal_df\u001b[0m \u001b[0;34m=\u001b[0m \u001b[0mpd\u001b[0m\u001b[0;34m.\u001b[0m\u001b[0mread_csv\u001b[0m\u001b[0;34m(\u001b[0m\u001b[0;34m'/content/Fake.csv'\u001b[0m\u001b[0;34m,\u001b[0m \u001b[0mencoding\u001b[0m\u001b[0;34m=\u001b[0m\u001b[0;34m'ISO-8859-1'\u001b[0m\u001b[0;34m,\u001b[0m \u001b[0mon_bad_lines\u001b[0m\u001b[0;34m=\u001b[0m\u001b[0;34m'skip'\u001b[0m\u001b[0;34m)\u001b[0m\u001b[0;34m\u001b[0m\u001b[0;34m\u001b[0m\u001b[0m\n\u001b[0m\u001b[1;32m      2\u001b[0m \u001b[0mfake_df\u001b[0m \u001b[0;34m=\u001b[0m \u001b[0mpd\u001b[0m\u001b[0;34m.\u001b[0m\u001b[0mread_csv\u001b[0m\u001b[0;34m(\u001b[0m\u001b[0;34m'/content/True.csv'\u001b[0m\u001b[0;34m,\u001b[0m \u001b[0mencoding\u001b[0m\u001b[0;34m=\u001b[0m\u001b[0;34m'ISO-8859-1'\u001b[0m\u001b[0;34m,\u001b[0m \u001b[0mon_bad_lines\u001b[0m\u001b[0;34m=\u001b[0m\u001b[0;34m'skip'\u001b[0m\u001b[0;34m)\u001b[0m\u001b[0;34m\u001b[0m\u001b[0;34m\u001b[0m\u001b[0m\n",
            "\u001b[0;32m/usr/local/lib/python3.10/dist-packages/pandas/util/_decorators.py\u001b[0m in \u001b[0;36mwrapper\u001b[0;34m(*args, **kwargs)\u001b[0m\n\u001b[1;32m    209\u001b[0m                 \u001b[0;32melse\u001b[0m\u001b[0;34m:\u001b[0m\u001b[0;34m\u001b[0m\u001b[0;34m\u001b[0m\u001b[0m\n\u001b[1;32m    210\u001b[0m                     \u001b[0mkwargs\u001b[0m\u001b[0;34m[\u001b[0m\u001b[0mnew_arg_name\u001b[0m\u001b[0;34m]\u001b[0m \u001b[0;34m=\u001b[0m \u001b[0mnew_arg_value\u001b[0m\u001b[0;34m\u001b[0m\u001b[0;34m\u001b[0m\u001b[0m\n\u001b[0;32m--> 211\u001b[0;31m             \u001b[0;32mreturn\u001b[0m \u001b[0mfunc\u001b[0m\u001b[0;34m(\u001b[0m\u001b[0;34m*\u001b[0m\u001b[0margs\u001b[0m\u001b[0;34m,\u001b[0m \u001b[0;34m**\u001b[0m\u001b[0mkwargs\u001b[0m\u001b[0;34m)\u001b[0m\u001b[0;34m\u001b[0m\u001b[0;34m\u001b[0m\u001b[0m\n\u001b[0m\u001b[1;32m    212\u001b[0m \u001b[0;34m\u001b[0m\u001b[0m\n\u001b[1;32m    213\u001b[0m         \u001b[0;32mreturn\u001b[0m \u001b[0mcast\u001b[0m\u001b[0;34m(\u001b[0m\u001b[0mF\u001b[0m\u001b[0;34m,\u001b[0m \u001b[0mwrapper\u001b[0m\u001b[0;34m)\u001b[0m\u001b[0;34m\u001b[0m\u001b[0;34m\u001b[0m\u001b[0m\n",
            "\u001b[0;32m/usr/local/lib/python3.10/dist-packages/pandas/util/_decorators.py\u001b[0m in \u001b[0;36mwrapper\u001b[0;34m(*args, **kwargs)\u001b[0m\n\u001b[1;32m    329\u001b[0m                     \u001b[0mstacklevel\u001b[0m\u001b[0;34m=\u001b[0m\u001b[0mfind_stack_level\u001b[0m\u001b[0;34m(\u001b[0m\u001b[0;34m)\u001b[0m\u001b[0;34m,\u001b[0m\u001b[0;34m\u001b[0m\u001b[0;34m\u001b[0m\u001b[0m\n\u001b[1;32m    330\u001b[0m                 )\n\u001b[0;32m--> 331\u001b[0;31m             \u001b[0;32mreturn\u001b[0m \u001b[0mfunc\u001b[0m\u001b[0;34m(\u001b[0m\u001b[0;34m*\u001b[0m\u001b[0margs\u001b[0m\u001b[0;34m,\u001b[0m \u001b[0;34m**\u001b[0m\u001b[0mkwargs\u001b[0m\u001b[0;34m)\u001b[0m\u001b[0;34m\u001b[0m\u001b[0;34m\u001b[0m\u001b[0m\n\u001b[0m\u001b[1;32m    332\u001b[0m \u001b[0;34m\u001b[0m\u001b[0m\n\u001b[1;32m    333\u001b[0m         \u001b[0;31m# error: \"Callable[[VarArg(Any), KwArg(Any)], Any]\" has no\u001b[0m\u001b[0;34m\u001b[0m\u001b[0;34m\u001b[0m\u001b[0m\n",
            "\u001b[0;32m/usr/local/lib/python3.10/dist-packages/pandas/io/parsers/readers.py\u001b[0m in \u001b[0;36mread_csv\u001b[0;34m(filepath_or_buffer, sep, delimiter, header, names, index_col, usecols, squeeze, prefix, mangle_dupe_cols, dtype, engine, converters, true_values, false_values, skipinitialspace, skiprows, skipfooter, nrows, na_values, keep_default_na, na_filter, verbose, skip_blank_lines, parse_dates, infer_datetime_format, keep_date_col, date_parser, dayfirst, cache_dates, iterator, chunksize, compression, thousands, decimal, lineterminator, quotechar, quoting, doublequote, escapechar, comment, encoding, encoding_errors, dialect, error_bad_lines, warn_bad_lines, on_bad_lines, delim_whitespace, low_memory, memory_map, float_precision, storage_options)\u001b[0m\n\u001b[1;32m    948\u001b[0m     \u001b[0mkwds\u001b[0m\u001b[0;34m.\u001b[0m\u001b[0mupdate\u001b[0m\u001b[0;34m(\u001b[0m\u001b[0mkwds_defaults\u001b[0m\u001b[0;34m)\u001b[0m\u001b[0;34m\u001b[0m\u001b[0;34m\u001b[0m\u001b[0m\n\u001b[1;32m    949\u001b[0m \u001b[0;34m\u001b[0m\u001b[0m\n\u001b[0;32m--> 950\u001b[0;31m     \u001b[0;32mreturn\u001b[0m \u001b[0m_read\u001b[0m\u001b[0;34m(\u001b[0m\u001b[0mfilepath_or_buffer\u001b[0m\u001b[0;34m,\u001b[0m \u001b[0mkwds\u001b[0m\u001b[0;34m)\u001b[0m\u001b[0;34m\u001b[0m\u001b[0;34m\u001b[0m\u001b[0m\n\u001b[0m\u001b[1;32m    951\u001b[0m \u001b[0;34m\u001b[0m\u001b[0m\n\u001b[1;32m    952\u001b[0m \u001b[0;34m\u001b[0m\u001b[0m\n",
            "\u001b[0;32m/usr/local/lib/python3.10/dist-packages/pandas/io/parsers/readers.py\u001b[0m in \u001b[0;36m_read\u001b[0;34m(filepath_or_buffer, kwds)\u001b[0m\n\u001b[1;32m    603\u001b[0m \u001b[0;34m\u001b[0m\u001b[0m\n\u001b[1;32m    604\u001b[0m     \u001b[0;31m# Create the parser.\u001b[0m\u001b[0;34m\u001b[0m\u001b[0;34m\u001b[0m\u001b[0m\n\u001b[0;32m--> 605\u001b[0;31m     \u001b[0mparser\u001b[0m \u001b[0;34m=\u001b[0m \u001b[0mTextFileReader\u001b[0m\u001b[0;34m(\u001b[0m\u001b[0mfilepath_or_buffer\u001b[0m\u001b[0;34m,\u001b[0m \u001b[0;34m**\u001b[0m\u001b[0mkwds\u001b[0m\u001b[0;34m)\u001b[0m\u001b[0;34m\u001b[0m\u001b[0;34m\u001b[0m\u001b[0m\n\u001b[0m\u001b[1;32m    606\u001b[0m \u001b[0;34m\u001b[0m\u001b[0m\n\u001b[1;32m    607\u001b[0m     \u001b[0;32mif\u001b[0m \u001b[0mchunksize\u001b[0m \u001b[0;32mor\u001b[0m \u001b[0miterator\u001b[0m\u001b[0;34m:\u001b[0m\u001b[0;34m\u001b[0m\u001b[0;34m\u001b[0m\u001b[0m\n",
            "\u001b[0;32m/usr/local/lib/python3.10/dist-packages/pandas/io/parsers/readers.py\u001b[0m in \u001b[0;36m__init__\u001b[0;34m(self, f, engine, **kwds)\u001b[0m\n\u001b[1;32m   1440\u001b[0m \u001b[0;34m\u001b[0m\u001b[0m\n\u001b[1;32m   1441\u001b[0m         \u001b[0mself\u001b[0m\u001b[0;34m.\u001b[0m\u001b[0mhandles\u001b[0m\u001b[0;34m:\u001b[0m \u001b[0mIOHandles\u001b[0m \u001b[0;34m|\u001b[0m \u001b[0;32mNone\u001b[0m \u001b[0;34m=\u001b[0m \u001b[0;32mNone\u001b[0m\u001b[0;34m\u001b[0m\u001b[0;34m\u001b[0m\u001b[0m\n\u001b[0;32m-> 1442\u001b[0;31m         \u001b[0mself\u001b[0m\u001b[0;34m.\u001b[0m\u001b[0m_engine\u001b[0m \u001b[0;34m=\u001b[0m \u001b[0mself\u001b[0m\u001b[0;34m.\u001b[0m\u001b[0m_make_engine\u001b[0m\u001b[0;34m(\u001b[0m\u001b[0mf\u001b[0m\u001b[0;34m,\u001b[0m \u001b[0mself\u001b[0m\u001b[0;34m.\u001b[0m\u001b[0mengine\u001b[0m\u001b[0;34m)\u001b[0m\u001b[0;34m\u001b[0m\u001b[0;34m\u001b[0m\u001b[0m\n\u001b[0m\u001b[1;32m   1443\u001b[0m \u001b[0;34m\u001b[0m\u001b[0m\n\u001b[1;32m   1444\u001b[0m     \u001b[0;32mdef\u001b[0m \u001b[0mclose\u001b[0m\u001b[0;34m(\u001b[0m\u001b[0mself\u001b[0m\u001b[0;34m)\u001b[0m \u001b[0;34m->\u001b[0m \u001b[0;32mNone\u001b[0m\u001b[0;34m:\u001b[0m\u001b[0;34m\u001b[0m\u001b[0;34m\u001b[0m\u001b[0m\n",
            "\u001b[0;32m/usr/local/lib/python3.10/dist-packages/pandas/io/parsers/readers.py\u001b[0m in \u001b[0;36m_make_engine\u001b[0;34m(self, f, engine)\u001b[0m\n\u001b[1;32m   1733\u001b[0m                 \u001b[0;32mif\u001b[0m \u001b[0;34m\"b\"\u001b[0m \u001b[0;32mnot\u001b[0m \u001b[0;32min\u001b[0m \u001b[0mmode\u001b[0m\u001b[0;34m:\u001b[0m\u001b[0;34m\u001b[0m\u001b[0;34m\u001b[0m\u001b[0m\n\u001b[1;32m   1734\u001b[0m                     \u001b[0mmode\u001b[0m \u001b[0;34m+=\u001b[0m \u001b[0;34m\"b\"\u001b[0m\u001b[0;34m\u001b[0m\u001b[0;34m\u001b[0m\u001b[0m\n\u001b[0;32m-> 1735\u001b[0;31m             self.handles = get_handle(\n\u001b[0m\u001b[1;32m   1736\u001b[0m                 \u001b[0mf\u001b[0m\u001b[0;34m,\u001b[0m\u001b[0;34m\u001b[0m\u001b[0;34m\u001b[0m\u001b[0m\n\u001b[1;32m   1737\u001b[0m                 \u001b[0mmode\u001b[0m\u001b[0;34m,\u001b[0m\u001b[0;34m\u001b[0m\u001b[0;34m\u001b[0m\u001b[0m\n",
            "\u001b[0;32m/usr/local/lib/python3.10/dist-packages/pandas/io/common.py\u001b[0m in \u001b[0;36mget_handle\u001b[0;34m(path_or_buf, mode, encoding, compression, memory_map, is_text, errors, storage_options)\u001b[0m\n\u001b[1;32m    854\u001b[0m         \u001b[0;32mif\u001b[0m \u001b[0mioargs\u001b[0m\u001b[0;34m.\u001b[0m\u001b[0mencoding\u001b[0m \u001b[0;32mand\u001b[0m \u001b[0;34m\"b\"\u001b[0m \u001b[0;32mnot\u001b[0m \u001b[0;32min\u001b[0m \u001b[0mioargs\u001b[0m\u001b[0;34m.\u001b[0m\u001b[0mmode\u001b[0m\u001b[0;34m:\u001b[0m\u001b[0;34m\u001b[0m\u001b[0;34m\u001b[0m\u001b[0m\n\u001b[1;32m    855\u001b[0m             \u001b[0;31m# Encoding\u001b[0m\u001b[0;34m\u001b[0m\u001b[0;34m\u001b[0m\u001b[0m\n\u001b[0;32m--> 856\u001b[0;31m             handle = open(\n\u001b[0m\u001b[1;32m    857\u001b[0m                 \u001b[0mhandle\u001b[0m\u001b[0;34m,\u001b[0m\u001b[0;34m\u001b[0m\u001b[0;34m\u001b[0m\u001b[0m\n\u001b[1;32m    858\u001b[0m                 \u001b[0mioargs\u001b[0m\u001b[0;34m.\u001b[0m\u001b[0mmode\u001b[0m\u001b[0;34m,\u001b[0m\u001b[0;34m\u001b[0m\u001b[0;34m\u001b[0m\u001b[0m\n",
            "\u001b[0;31mFileNotFoundError\u001b[0m: [Errno 2] No such file or directory: '/content/Fake.csv'"
          ]
        }
      ]
    },
    {
      "cell_type": "code",
      "source": [
        "real_df.info()"
      ],
      "metadata": {
        "colab": {
          "base_uri": "https://localhost:8080/",
          "height": 175
        },
        "id": "1QdBXi98Cov0",
        "outputId": "8edcefe6-d823-4495-8e9e-cadb72dd095b"
      },
      "execution_count": 3,
      "outputs": [
        {
          "output_type": "error",
          "ename": "NameError",
          "evalue": "ignored",
          "traceback": [
            "\u001b[0;31m---------------------------------------------------------------------------\u001b[0m",
            "\u001b[0;31mNameError\u001b[0m                                 Traceback (most recent call last)",
            "\u001b[0;32m<ipython-input-3-4f6292a7e7b0>\u001b[0m in \u001b[0;36m<cell line: 1>\u001b[0;34m()\u001b[0m\n\u001b[0;32m----> 1\u001b[0;31m \u001b[0mreal_df\u001b[0m\u001b[0;34m.\u001b[0m\u001b[0minfo\u001b[0m\u001b[0;34m(\u001b[0m\u001b[0;34m)\u001b[0m\u001b[0;34m\u001b[0m\u001b[0;34m\u001b[0m\u001b[0m\n\u001b[0m",
            "\u001b[0;31mNameError\u001b[0m: name 'real_df' is not defined"
          ]
        }
      ]
    },
    {
      "cell_type": "code",
      "source": [
        "fake_df.info()"
      ],
      "metadata": {
        "colab": {
          "base_uri": "https://localhost:8080/",
          "height": 175
        },
        "id": "RwO1R8QdFTRV",
        "outputId": "86949dc6-c789-4fc8-ff7c-5fd3122faed9"
      },
      "execution_count": 4,
      "outputs": [
        {
          "output_type": "error",
          "ename": "NameError",
          "evalue": "ignored",
          "traceback": [
            "\u001b[0;31m---------------------------------------------------------------------------\u001b[0m",
            "\u001b[0;31mNameError\u001b[0m                                 Traceback (most recent call last)",
            "\u001b[0;32m<ipython-input-4-c41eaecd0f33>\u001b[0m in \u001b[0;36m<cell line: 1>\u001b[0;34m()\u001b[0m\n\u001b[0;32m----> 1\u001b[0;31m \u001b[0mfake_df\u001b[0m\u001b[0;34m.\u001b[0m\u001b[0minfo\u001b[0m\u001b[0;34m(\u001b[0m\u001b[0;34m)\u001b[0m\u001b[0;34m\u001b[0m\u001b[0;34m\u001b[0m\u001b[0m\n\u001b[0m",
            "\u001b[0;31mNameError\u001b[0m: name 'fake_df' is not defined"
          ]
        }
      ]
    },
    {
      "cell_type": "code",
      "source": [
        "list(real_df.sample(5).title)"
      ],
      "metadata": {
        "colab": {
          "base_uri": "https://localhost:8080/"
        },
        "id": "yigMeIO4FV_F",
        "outputId": "d4d8834f-1ab1-40b3-8fb6-710ea2bc0381"
      },
      "execution_count": null,
      "outputs": [
        {
          "output_type": "execute_result",
          "data": {
            "text/plain": [
              "[' China Drone Drama Was Over Before Trumpâ\\x80\\x99s First Tweet â\\x80\\x93 If He Got Intel Briefings Heâ\\x80\\x99d Have Known It',\n",
              " ' Loan Officer Fired From Her Job After Posting A HORRIBLY Racist Tweet About Michelle Obama',\n",
              " 'WOMEN IN FRANCE Fight Back After Muslim Men BAN Them From Sharing Public Spaces [VIDEO]',\n",
              " 'BILL Oâ\\x80\\x99REILLY IS OUT At Fox News Over Alleged Sexual Remarks, Advancesâ\\x80¦Evidence Of â\\x80\\x9cSmear Campaignâ\\x80\\x9d By â\\x80\\x9cFar-Leftâ\\x80\\x9d Has Been Uncovered',\n",
              " 'PUERTO RICO: Local Cop Calls US Radio Station Tells Shocking Reason Aid Isnâ\\x80\\x99t Getting To People [Video]']"
            ]
          },
          "metadata": {},
          "execution_count": 25
        }
      ]
    },
    {
      "cell_type": "code",
      "source": [
        "list(real_df.sample(1).text)"
      ],
      "metadata": {
        "colab": {
          "base_uri": "https://localhost:8080/"
        },
        "id": "h7WqY4yAFWd1",
        "outputId": "a17a7d93-65fe-4090-895a-f99c75917b6a"
      },
      "execution_count": null,
      "outputs": [
        {
          "output_type": "execute_result",
          "data": {
            "text/plain": [
              "['If you tuned into the first presidential debate last night, you already know that Hillary Clinton pretty much wiped the floor with Donald Trump. Trump was so nervous and unprepared that he was reduced to constant sniffling, excessive thirstiness and his usual outlandish rants and interruptions. Let s just say that everyone noticed.Trump couldn t take the heat, and he definitely cannot handle the humiliation that is following the debate. While several major media outlets are calling the debate a clear win for Clinton, Trump is trying to come up with reasons why he bombed so horribly (even though it was perfectly obvious that he would).The best excuse Trump has been able to come up with is beyond pathetic and nothing but a move of desperation. The Associated Press has reported that after the debate, the GOP nominee immediately told reporters that he was unable to perform to the best of his ability because there was something wrong with his microphone. And yet despite something being  wrong with it,  that mic seemed to work fine as he shouted over Hillary every few seconds. AP reported: Trump visited the media spin room after the Monday night debate and said,  They gave me a defective mic! He said he  wonder(s), was that on purpose? CBS s Sopan Deb also happened to be there and gave a little more detail into Trump s microphone conspiracy theory:TwitterTrump is seriously trying to claim that someone tried to sabotage the debate on purpose! What a moron. The truth is that Trump didn t prepare for the debate like Clinton did   and even if he had spent a little more time preparing than tweeting, it wouldn t have mattered much   he s completely unqualified for the White House. Last night, Hillary showed America that these two shouldn t even be up against each other. There is no comparison. Hillary looked like our next President, and Trump looked like a fraud and an imposter who should have never made it up on that stage.I wouldn t be surprised if Trump comes up with more lame stories about why his performance was compromised last night.Featured image via Win McNamee / Getty Images']"
            ]
          },
          "metadata": {},
          "execution_count": 26
        }
      ]
    },
    {
      "cell_type": "code",
      "source": [
        "list(fake_df.sample(5).title)"
      ],
      "metadata": {
        "colab": {
          "base_uri": "https://localhost:8080/"
        },
        "id": "gcUvXgFiFWjm",
        "outputId": "208ad11f-5105-4459-991d-4a7eb8e8965a"
      },
      "execution_count": null,
      "outputs": [
        {
          "output_type": "execute_result",
          "data": {
            "text/plain": [
              "['Iran tests new missile after U.S. criticizes arms program',\n",
              " 'Clinton email problem resurfaces as FBI announces review',\n",
              " 'Kremlin: accusations that Russia behind Kiev blast are \"baseless\"',\n",
              " 'Greece debates bill on legal gender change, divisions laid bare',\n",
              " \"Clinton: Senate should consider Obama's high court pick 'immediately'\"]"
            ]
          },
          "metadata": {},
          "execution_count": 27
        }
      ]
    },
    {
      "cell_type": "code",
      "source": [
        "list(fake_df.sample(1).text)"
      ],
      "metadata": {
        "colab": {
          "base_uri": "https://localhost:8080/"
        },
        "id": "fqHNKm0kFWpD",
        "outputId": "9c914f38-ff4d-4c3d-bfd9-c191f4ddf893"
      },
      "execution_count": null,
      "outputs": [
        {
          "output_type": "execute_result",
          "data": {
            "text/plain": [
              "['HOUSTON/WASHINGTON (Reuters) - The top executive at the company behind the embattled Dakota Access Pipeline has donated more than $100,000 to Republican presidential candidate Donald Trump since June, according to campaign finance disclosure records. The donations by Kelcy Warren, chairman and chief executive officer at pipeline operator Energy Transfer Partners, support the candidate seen by many as more likely to promote the U.S. oil and gas industry than his opponent, Democrat Hillary Clinton. Warren donated $300 to the Trump campaign during the primaries, and $2,700 to Trump during the general election phase of the campaign, for the maximum contribution allowed by a single individual during an election.  He also gave $100,000 to the Trump Victory Fund, a joint fundraising committee that includes the Trump campaign, the Republican National Committee, the Republican Party of Arkansas and the Connecticut Republican Party.  The donations, first reported by the British newspaper The Guardian, were made before the U.S. government halted construction on a segment of Energy Transfer Partnersâ\\x80\\x99 1,100-mile (1,770-km) Dakota Access Pipeline in early September following protests by Native American and environmental groups.  The project, which would move oil from the highly productive Bakken shale formation to the Midwest and Gulf Coast, sparked violent clashes between security officers near the construction site and Native American tribe members and other protesters. Opponents have said the project will damage burial sites considered sacred to the Standing Rock Sioux tribe and pollute the areaâ\\x80\\x99s drinking water.  Warren has also given $66,800 to the Republication National Committee since Trump secured the nomination for the Nov. 8 election, The Guardian reported. Trump has not yet taken a position on the Dakota Access Pipeline, but supports the development of oil and gas and related infrastructure, including pipelines. Asked about Trumpâ\\x80\\x99s position on the Dakota Access Pipeline in a policy debate this week, U.S. Representative Kevin Cramer of North Dakota, one of the candidateâ\\x80\\x99s main energy advisers, declined to answer, saying he did not want to get ahead of Trump. He added, â\\x80\\x9cIâ\\x80\\x99m not sure he (Trump) is aware of it.â\\x80\\x9d  If elected, Trump in his first 100 days will ask TransCanada to renew its permit application for the Keystone XL Pipeline, according to his campaign website. U.S. President Barack Obama rejected the proposed pipeline from Canada last November. Trump has holdings in Energy Transfer Partners and Phillips 66, a joint owner of the Dakota Access Pipeline, through mutual funds, according to financial disclosure records. U.S. oil and gas industry workers have contributed slightly more to Clinton, with employees giving $114,141 to the Democratic candidate and $99,302 to Trump since July, according to a Reuters review of federal campaign finance disclosures. ']"
            ]
          },
          "metadata": {},
          "execution_count": 28
        }
      ]
    },
    {
      "cell_type": "code",
      "source": [
        "real_df['Fake_news'] = 0\n",
        "fake_df['Fake_news'] = 1"
      ],
      "metadata": {
        "id": "lAgmC4aoFWwT"
      },
      "execution_count": null,
      "outputs": []
    },
    {
      "cell_type": "markdown",
      "source": [
        "# Data visualization"
      ],
      "metadata": {
        "id": "3qpmwYWtFekG"
      }
    },
    {
      "cell_type": "code",
      "source": [
        "fig = plt.figure(figsize=(5, 5))\n",
        "labels = 'Real', 'Fake'\n",
        "sizes = [len(real_df), len(fake_df)]\n",
        "\n",
        "plt.pie(sizes, labels=labels, autopct='%1.1f%%',\n",
        "        shadow=True, startangle=90)\n",
        "plt.axis('equal')\n",
        "plt.show()"
      ],
      "metadata": {
        "colab": {
          "base_uri": "https://localhost:8080/",
          "height": 422
        },
        "id": "seSeHi_DFgPm",
        "outputId": "58de3510-0ce8-462f-8bf2-aeacfa1ef93b"
      },
      "execution_count": null,
      "outputs": [
        {
          "output_type": "display_data",
          "data": {
            "text/plain": [
              "<Figure size 500x500 with 1 Axes>"
            ],
            "image/png": "[encoded data removed]"
          },
          "metadata": {}
        }
      ]
    },
    {
      "cell_type": "code",
      "source": [
        "positive_titles = np.array(real_df.title)\n",
        "negative_titles = np.array(fake_df.title)"
      ],
      "metadata": {
        "id": "WwNXygjYFjQW"
      },
      "execution_count": null,
      "outputs": []
    },
    {
      "cell_type": "code",
      "source": [
        "import re\n",
        "\n",
        "def process_news(news):\n",
        "    stemmer = PorterStemmer()\n",
        "    stopwords_english = stopwords.words('english')\n",
        "    news = re.sub(r'https?://[^\\s\\n\\r]+', '', news)\n",
        "    news = re.sub(r'[^a-zA-Z\\s]', '', news)\n",
        "\n",
        "    news_tokens = word_tokenize(news)\n",
        "\n",
        "    news_clean = []\n",
        "    for word in news_tokens:\n",
        "        if (word not in stopwords_english and\n",
        "                word not in string.punctuation):\n",
        "\n",
        "            stem_word = stemmer.stem(word)\n",
        "            news_clean.append(stem_word)\n",
        "\n",
        "    return news_clean"
      ],
      "metadata": {
        "id": "cUHuY9RSGFVX"
      },
      "execution_count": null,
      "outputs": []
    },
    {
      "cell_type": "code",
      "source": [
        "import nltk\n",
        "nltk.download('stopwords')\n",
        "nltk.download('punkt')\n",
        "rand_id = random.randint(0,len(positive_titles))\n",
        "print(positive_titles[rand_id],process_news(positive_titles[rand_id]))"
      ],
      "metadata": {
        "colab": {
          "base_uri": "https://localhost:8080/"
        },
        "id": "qWxAn_KyGH-m",
        "outputId": "b9c5406a-d045-4b05-8ff6-97435472154b"
      },
      "execution_count": null,
      "outputs": [
        {
          "output_type": "stream",
          "name": "stdout",
          "text": [
            "CHURCHGOERS TRAPPED INSIDE CATHEDRAL After Man Hits Police Officer Guarding Church In Head With Hammerâ¦Authorities Calling It Act Of Terror [VIDEO] ['churchgoer', 'trap', 'insid', 'cathedr', 'after', 'man', 'hit', 'polic', 'offic', 'guard', 'church', 'in', 'head', 'with', 'hammerauthor', 'call', 'it', 'act', 'of', 'terror', 'video']\n"
          ]
        },
        {
          "output_type": "stream",
          "name": "stderr",
          "text": [
            "[nltk_data] Downloading package stopwords to /root/nltk_data...\n",
            "[nltk_data]   Package stopwords is already up-to-date!\n",
            "[nltk_data] Downloading package punkt to /root/nltk_data...\n",
            "[nltk_data]   Package punkt is already up-to-date!\n"
          ]
        }
      ]
    },
    {
      "cell_type": "code",
      "source": [
        "news_title = np.concatenate((positive_titles, negative_titles), axis=0)"
      ],
      "metadata": {
        "id": "_XbiRYoeHU0s"
      },
      "execution_count": null,
      "outputs": []
    },
    {
      "cell_type": "code",
      "source": [
        "positive_y = np.array(real_df.Fake_news)\n",
        "negative_y = np.array(fake_df.Fake_news)\n",
        "y = np.concatenate((positive_y, negative_y), axis=0)"
      ],
      "metadata": {
        "id": "zG12qX1kHXWv"
      },
      "execution_count": null,
      "outputs": []
    },
    {
      "cell_type": "markdown",
      "source": [
        "# Splitting dataset"
      ],
      "metadata": {
        "id": "7dRCIPvCHkxJ"
      }
    },
    {
      "cell_type": "code",
      "source": [
        "X_train, X_test, y_train, y_test = train_test_split(news_title, y, test_size=0.20, random_state=0)"
      ],
      "metadata": {
        "id": "D6SRkHEZHYjd"
      },
      "execution_count": null,
      "outputs": []
    },
    {
      "cell_type": "code",
      "source": [
        "def build_freqs(news, ys):\n",
        "    yslist = np.squeeze(ys).tolist()\n",
        "    freqs = {}\n",
        "    for y, new in zip(yslist, news):\n",
        "        for word in process_news(new):\n",
        "            pair = (word, y)\n",
        "            if pair in freqs:\n",
        "                freqs[pair] += 1\n",
        "            else:\n",
        "                freqs[pair] = 1\n",
        "    return freqs"
      ],
      "metadata": {
        "id": "atPY-fwvHd96"
      },
      "execution_count": null,
      "outputs": []
    },
    {
      "cell_type": "markdown",
      "source": [
        "#Training model"
      ],
      "metadata": {
        "id": "8CyOiBqrHyaW"
      }
    },
    {
      "cell_type": "code",
      "source": [
        "freqs = build_freqs(news_title, y)"
      ],
      "metadata": {
        "id": "kPq-CDjGHvz8"
      },
      "execution_count": null,
      "outputs": []
    },
    {
      "cell_type": "code",
      "source": [
        "def train_naive_bayes(freqs, train_x, train_y):\n",
        "    loglikelihood = {}\n",
        "    logprior = 0\n",
        "\n",
        "    vocab = set([pair[0] for pair in freqs.keys()])\n",
        "    V = len(vocab)\n",
        "\n",
        "    N_pos = N_neg = 0\n",
        "    for pair in freqs.keys():\n",
        "\n",
        "        if pair[1] > 0:\n",
        "            N_pos += freqs[pair]\n",
        "        else:\n",
        "            N_neg += freqs[pair]\n",
        "\n",
        "\n",
        "    D = len(train_y)\n",
        "\n",
        "    D_pos = np.sum((train_y == 1))\n",
        "\n",
        "    D_neg = np.sum((train_y == 0))\n",
        "\n",
        "    logprior = np.log(D_pos) - np.log(D_neg)\n",
        "\n",
        "    for word in vocab:\n",
        "        freq_pos = freqs.get((word,1),0)\n",
        "        freq_neg = freqs.get((word,0),0)\n",
        "\n",
        "        p_w_pos = (freq_pos + 1)/(N_pos +V)\n",
        "        p_w_neg = (freq_neg + 1)/(N_neg +V)\n",
        "\n",
        "        loglikelihood[word] = np.log(p_w_pos) - np.log(p_w_neg)\n",
        "\n",
        "    return logprior, loglikelihood"
      ],
      "metadata": {
        "id": "BK6uCCqYH9M1"
      },
      "execution_count": null,
      "outputs": []
    },
    {
      "cell_type": "code",
      "source": [
        "logprior, loglikelihood = train_naive_bayes(freqs, X_train, y_train)"
      ],
      "metadata": {
        "id": "5RzS-UkdIHXO"
      },
      "execution_count": null,
      "outputs": []
    },
    {
      "cell_type": "markdown",
      "source": [
        "# Prediction and accuracy"
      ],
      "metadata": {
        "id": "SuGm6lUuIJxo"
      }
    },
    {
      "cell_type": "code",
      "source": [
        "def naive_bayes_predict(news, logprior, loglikelihood):\n",
        "    word_l = process_news(news)\n",
        "    p = 0\n",
        "    p += logprior\n",
        "\n",
        "    for word in word_l:\n",
        "        if word in loglikelihood:\n",
        "            p += loglikelihood[word]\n",
        "\n",
        "    return p"
      ],
      "metadata": {
        "id": "GZDyceKuINwt"
      },
      "execution_count": null,
      "outputs": []
    },
    {
      "cell_type": "code",
      "source": [
        "def test_naive_bayes(test_x, test_y, logprior, loglikelihood, naive_bayes_predict=naive_bayes_predict):\n",
        "    accuracy = 0\n",
        "\n",
        "    y_hats = []\n",
        "    for new in test_x:\n",
        "        if naive_bayes_predict(new, logprior, loglikelihood) > 0:\n",
        "            y_hat_i = 1\n",
        "        else:\n",
        "            y_hat_i = 0\n",
        "        y_hats.append(y_hat_i)\n",
        "\n",
        "    error = np.sum((y_hats != test_y))/len(test_y)\n",
        "\n",
        "    accuracy = 1 - error\n",
        "\n",
        "    return accuracy"
      ],
      "metadata": {
        "id": "XFGUQ6aKITyl"
      },
      "execution_count": null,
      "outputs": []
    },
    {
      "cell_type": "code",
      "source": [
        "test_naive_bayes(X_test, y_test, logprior, loglikelihood)"
      ],
      "metadata": {
        "colab": {
          "base_uri": "https://localhost:8080/"
        },
        "id": "oadlTfSjIaTI",
        "outputId": "459fa1dd-e4b9-4e36-9637-3e4e7c12dc0d"
      },
      "execution_count": null,
      "outputs": [
        {
          "output_type": "execute_result",
          "data": {
            "text/plain": [
              "0.9828949073474148"
            ]
          },
          "metadata": {},
          "execution_count": 49
        }
      ]
    },
    {
      "cell_type": "code",
      "source": [
        "rand_id = random.randint(0,len(X_test))\n",
        "Value_predict = 'Fake' if naive_bayes_predict(X_test[rand_id], logprior, loglikelihood) > 0 else 'Real'\n",
        "assigned_value = 'Fake' if y_test[rand_id] == 1 else 'Real'\n",
        "print(X_test[rand_id], 'Predicted: ', Value_predict, '; Assigned value:', assigned_value)"
      ],
      "metadata": {
        "colab": {
          "base_uri": "https://localhost:8080/"
        },
        "id": "d52bH9AEIbRd",
        "outputId": "721aa8a8-2390-4906-859c-a978c3c994d4"
      },
      "execution_count": null,
      "outputs": [
        {
          "output_type": "stream",
          "name": "stdout",
          "text": [
            "U.S. senators to introduce bill to secure 'internet of things' Predicted:  Fake ; Assigned value: Fake\n"
          ]
        }
      ]
    }
  ]
}